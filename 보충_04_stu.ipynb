{
 "cells": [
  {
   "cell_type": "markdown",
   "metadata": {},
   "source": [
    "## 문제\n",
    "이메일을 보내면 이메일을 보냈다라고 True를 출력해주는 `send_email()` 메서드를 가진 `Email` 클래스를 작성하시오\n",
    "\n",
    "```python\n",
    "my_email = Email()\n",
    "my_email.is_sent # => False\n",
    "\n",
    "my_email.send_email()\n",
    "my_email.is_sent # => True\n",
    "```"
   ]
  },
  {
   "cell_type": "code",
   "execution_count": null,
   "metadata": {},
   "outputs": [],
   "source": [
    "class Email:\n",
    "#     is_sent = False\n",
    "    def __init__(self):\n",
    "        self.is_sent = False\n",
    "    \n",
    "    def send_email(self):\n",
    "        self.is_sent = True\n",
    "    \n",
    "    def is_sent(self):   # 쓸데없는 함수 생성..\n",
    "        return True"
   ]
  },
  {
   "cell_type": "code",
   "execution_count": null,
   "metadata": {},
   "outputs": [],
   "source": [
    "class Email:\n",
    "    def __init__(self):   # self : 인스턴스 자기 자신\n",
    "        self.is_sent = False\n",
    "    \n",
    "    def send_email(self):\n",
    "        self.is_sent = True"
   ]
  },
  {
   "cell_type": "code",
   "execution_count": null,
   "metadata": {},
   "outputs": [],
   "source": [
    "my_email = Email()"
   ]
  },
  {
   "cell_type": "code",
   "execution_count": null,
   "metadata": {},
   "outputs": [],
   "source": [
    "my_email.is_sent"
   ]
  },
  {
   "cell_type": "code",
   "execution_count": null,
   "metadata": {},
   "outputs": [],
   "source": [
    "my_email.send_email()"
   ]
  },
  {
   "cell_type": "code",
   "execution_count": null,
   "metadata": {},
   "outputs": [],
   "source": [
    "my_email.is_sent"
   ]
  },
  {
   "cell_type": "markdown",
   "metadata": {},
   "source": [
    "## 문제\n",
    "\n",
    "아래처럼 리스트에 단일 값을 넣는 add() 메서드와 값을 두번 넣어주는 add_twice 메서드를 가진 `Bag` 클래스를 작성하시오\n",
    "\n",
    "```python\n",
    "bag = Bag()\n",
    "bag.add(1)\n",
    "bag.add_twice(5)\n",
    "bag.data\n",
    "\n",
    "# 출력\n",
    "[1, 5, 5]\n",
    "```"
   ]
  },
  {
   "cell_type": "code",
   "execution_count": null,
   "metadata": {},
   "outputs": [],
   "source": [
    "class Bag:\n",
    "    \n",
    "    def __init__(self):\n",
    "        self.data = []\n",
    "        \n",
    "    def add(self, num):\n",
    "        self.data += [num]\n",
    "        \n",
    "    def add_twice(self, num):\n",
    "        for i in range(2):\n",
    "            self.data += [num]"
   ]
  },
  {
   "cell_type": "code",
   "execution_count": null,
   "metadata": {},
   "outputs": [],
   "source": [
    "bag = Bag()\n",
    "bag.add(1)\n",
    "bag.add_twice(5)\n",
    "bag.data"
   ]
  },
  {
   "cell_type": "markdown",
   "metadata": {},
   "source": [
    "## 문제\n",
    "정사각형의 넓이를 구해주는 `square_area()` 메서드를 가진 파이썬 클래스 `SquareClass` 를 작성하십시오.\n",
    "\n",
    "```python\n",
    "sample = SquareClass(12)\n",
    "print(sample.square_area())\n",
    "\n",
    "# 출력\n",
    "144\n",
    "```"
   ]
  },
  {
   "cell_type": "code",
   "execution_count": null,
   "metadata": {},
   "outputs": [],
   "source": [
    "class SquareClass:\n",
    "    \n",
    "    def __init__(self, length):\n",
    "        self.width = length   # 변수가 제시되지 않았기 때문에 width라는 새로운 변수를 만들어야 한다. (length와 같아도 된다.)\n",
    "    \n",
    "    def square_area(self):\n",
    "        return self.width**2"
   ]
  },
  {
   "cell_type": "code",
   "execution_count": null,
   "metadata": {},
   "outputs": [],
   "source": [
    "sample = SquareClass(12)\n",
    "print(sample.square_area())"
   ]
  },
  {
   "cell_type": "markdown",
   "metadata": {},
   "source": [
    "## 문제\n",
    "`get_String()`과 `print_String()`의 두 가지 메소드를 가진 파이썬 클래스 `MyClass`를 작성하십시오. \n",
    "\n",
    "`get_String()`은 사용자로부터 문자열을 받고 `print_String()`은 입력 문자열이 대문자였다면 소문자로, 소문자였다면 대문자로로 인쇄합니다.\n",
    "\n",
    "```python\n",
    "sample = MyClass()\n",
    "\n",
    "# 입력\n",
    "sample.get_String()\n",
    "\n",
    "asda\n",
    "\n",
    "# 출력\n",
    "sample.print_String()\n",
    "\n",
    "ASDA\n",
    "```"
   ]
  },
  {
   "cell_type": "code",
   "execution_count": null,
   "metadata": {},
   "outputs": [],
   "source": [
    "class MyClass:\n",
    "    \n",
    "    def __init__(self):\n",
    "        self.x = ''  # 인스턴스를 만들면서 빈 문자열을 만는다. 이 부분 생각하지 못했었다.  \n",
    "    \n",
    "    def get_String(self):\n",
    "        self.x = input()  # 빈 문자열을 입력받은 값으로 대체\n",
    "    \n",
    "    def print_String(self):\n",
    "        if self.x.islower():\n",
    "            return self.x.upper()\n",
    "        else:\n",
    "            return self.x.lower()"
   ]
  },
  {
   "cell_type": "code",
   "execution_count": null,
   "metadata": {},
   "outputs": [],
   "source": [
    "sample = MyClass()\n",
    "sample.get_String()"
   ]
  },
  {
   "cell_type": "code",
   "execution_count": null,
   "metadata": {},
   "outputs": [],
   "source": [
    "sample.print_String()"
   ]
  },
  {
   "cell_type": "markdown",
   "metadata": {},
   "source": [
    "## 문제\n",
    "Student 클래스는 인스턴스 생성시 이름과 나이를 받는다.\n",
    "\n",
    "Student 클래스로 만든 인스턴스를 print 로 출력 시\n",
    "\n",
    "`이름은 홍길동, 나이는 30` 형식으로 출력된다.\n",
    "\n",
    "ClassMate 클래스는 학생 인스턴스 2개를 인자로 받아서 인스턴스를 만든다.(한 커플이 만들어진 것)\n",
    "\n",
    "그리고 인스턴스 생성시마다 카운트 한다.\n",
    "\n",
    "ClassMate 클래스로 만든 인스턴스를 print 로 출력 시\n",
    "\n",
    "`홍길동과 김싸피는 커플입니다.` 형식으로 출력된다.\n",
    "\n",
    "`display()` 메서드는 커플의 각각 이름을 출력한다.\n",
    "\n",
    "`sum_age()` 메서드는 커플의 나이를 합해서 출력한다.\n",
    "\n",
    "`is_teen()` 메서드는 두 커플이 모두 10대일 시 True 를 출력한다.\n",
    "\n",
    "`how_many()` 메서드는 현재 몇 커플이 만들어졌는지 클래스 변수 count 값을 출력한다.\n",
    "\n",
    "```python\n",
    "stu1 = Student('홍길동', 30)\n",
    "stu2 = Student('김싸피', 19)\n",
    "print(stu1) # 이름은 홍길동, 나이는 30\n",
    "\n",
    "mate = ClassMate(stu1, stu2)\n",
    "print(mate) # 홍길동와 김싸피은 커플입니다.\n",
    "\n",
    "mate.display() # 홍길동 김싸피\n",
    "\n",
    "mate.sum_age() # 49\n",
    "\n",
    "mate.is_teen() # False\n",
    "\n",
    "ClassMate.how_many() # 1 쌍의 짝이 있습니다.\n",
    "```\n",
    "\n"
   ]
  },
  {
   "cell_type": "code",
   "execution_count": null,
   "metadata": {},
   "outputs": [],
   "source": [
    "class Student:\n",
    "    def __init__(self, name, age):\n",
    "        self.name = name\n",
    "        self.age = age\n",
    "        \n",
    "    def __str__(self):  # 프린트할 때 값 바꾸는 명령어 __str__\n",
    "        return f'이름은 {self.name}, 나이는 {self.age}'\n",
    "             \n",
    "class ClassMate:\n",
    "    count = 0\n",
    "    def __init__(self, stu1, stu2):\n",
    "        self.stu1 = stu1\n",
    "        self.stu2 = stu2\n",
    "        ClassMate.count += 1\n",
    "        \n",
    "    def __str__(self):\n",
    "        return f'{self.stu1.name}과 {self.stu2.name}는 커플입니다.'\n",
    "    \n",
    "    def display(self):\n",
    "        return f'{self.stu1.name} {self.stu2.name}'\n",
    "    \n",
    "    def sum_age(self):\n",
    "        return (self.stu1.age + self.stu2.age)\n",
    "    \n",
    "    def is_teen(self):\n",
    "        if self.stu1.age < 20 and self.stu2.age < 20:\n",
    "            return True\n",
    "        else:\n",
    "            return False\n",
    "        \n",
    "    @classmethod\n",
    "    def how_many(cls):\n",
    "        return f'{cls.count} 쌍의 짝이 있습니다.'"
   ]
  },
  {
   "cell_type": "code",
   "execution_count": null,
   "metadata": {},
   "outputs": [],
   "source": [
    "stu1 = Student('홍길동', 30)\n",
    "stu2 = Student('김싸피', 19)\n",
    "print(stu1)"
   ]
  },
  {
   "cell_type": "code",
   "execution_count": null,
   "metadata": {},
   "outputs": [],
   "source": [
    "mate = ClassMate(stu1, stu2)"
   ]
  },
  {
   "cell_type": "code",
   "execution_count": null,
   "metadata": {},
   "outputs": [],
   "source": [
    "mate.display() # 홍길동 김싸피"
   ]
  },
  {
   "cell_type": "code",
   "execution_count": null,
   "metadata": {},
   "outputs": [],
   "source": [
    "mate.sum_age() # 49"
   ]
  },
  {
   "cell_type": "code",
   "execution_count": null,
   "metadata": {},
   "outputs": [],
   "source": [
    "mate.is_teen() # False"
   ]
  },
  {
   "cell_type": "code",
   "execution_count": null,
   "metadata": {
    "scrolled": true
   },
   "outputs": [],
   "source": [
    "ClassMate.how_many() # 1 쌍의 짝이 있습니다."
   ]
  },
  {
   "cell_type": "code",
   "execution_count": null,
   "metadata": {},
   "outputs": [],
   "source": []
  },
  {
   "cell_type": "code",
   "execution_count": null,
   "metadata": {},
   "outputs": [],
   "source": [
    "print(stu1) --> __str__  # 프린트할 때 객체를 바꿀 때\n",
    "\n",
    "stu1 --> __repr___  # 그냥 호출하여 객체를 바꿀 때"
   ]
  }
 ],
 "metadata": {
  "kernelspec": {
   "display_name": "Python 3",
   "language": "python",
   "name": "python3"
  },
  "language_info": {
   "codemirror_mode": {
    "name": "ipython",
    "version": 3
   },
   "file_extension": ".py",
   "mimetype": "text/x-python",
   "name": "python",
   "nbconvert_exporter": "python",
   "pygments_lexer": "ipython3",
   "version": "3.7.3"
  },
  "toc": {
   "base_numbering": 1,
   "nav_menu": {},
   "number_sections": true,
   "sideBar": true,
   "skip_h1_title": false,
   "title_cell": "Table of Contents",
   "title_sidebar": "Contents",
   "toc_cell": false,
   "toc_position": {},
   "toc_section_display": true,
   "toc_window_display": false
  }
 },
 "nbformat": 4,
 "nbformat_minor": 2
}
