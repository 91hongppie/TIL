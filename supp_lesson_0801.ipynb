{
 "cells": [
  {
   "cell_type": "markdown",
   "metadata": {},
   "source": [
    "# 클래스"
   ]
  },
  {
   "cell_type": "code",
   "execution_count": 23,
   "metadata": {},
   "outputs": [],
   "source": [
    "class ClassName:\n",
    "    count = 0  # 클래스 변수\n",
    "    \n",
    "    def __init__(self, name): # 생성자\n",
    "        self.name = name # 인스턴스 변수\n",
    "        ClassName.count += 1\n",
    "        \n",
    "    def get_name(self):  # 인스턴스 메서드  // (인스턴스가 호출)\n",
    "        print(self.name)\n",
    "        \n",
    "    @classmethod\n",
    "    def get_count(cls):  # 무조건 (cls)  // (클래스가 호출)\n",
    "        print(cls.count)\n",
    "        \n",
    "    @staticmethod\n",
    "    def add(a, b):       # 다른 메서드에 전혀 영향을 주지 않는 메서드 // (클래스가 호출)\n",
    "        return a + b\n",
    "        \n",
    "    def __str__(self):   # 인스턴스를 프린트했을 때 나오는 인스턴스 객체 표현을 수정\n",
    "        return '안녕하세요...'  # return은 문자형으로"
   ]
  },
  {
   "cell_type": "code",
   "execution_count": 13,
   "metadata": {},
   "outputs": [],
   "source": [
    "sample = ClassName('이병주')"
   ]
  },
  {
   "cell_type": "code",
   "execution_count": 14,
   "metadata": {},
   "outputs": [
    {
     "name": "stdout",
     "output_type": "stream",
     "text": [
      "안녕하세요...\n"
     ]
    }
   ],
   "source": [
    "print(sample)"
   ]
  },
  {
   "cell_type": "code",
   "execution_count": 17,
   "metadata": {},
   "outputs": [
    {
     "data": {
      "text/plain": [
       "1"
      ]
     },
     "execution_count": 17,
     "metadata": {},
     "output_type": "execute_result"
    }
   ],
   "source": [
    "sample.count  # 값은 나오지만 사용하지 않는다.\n",
    "                # 접근 순서 : 인스턴스 -> 로컬 -> 전역"
   ]
  },
  {
   "cell_type": "code",
   "execution_count": 16,
   "metadata": {},
   "outputs": [
    {
     "data": {
      "text/plain": [
       "1"
      ]
     },
     "execution_count": 16,
     "metadata": {},
     "output_type": "execute_result"
    }
   ],
   "source": [
    "ClassName.count  # 클래스 변수는 클래스로 접근하는 것이 원칙"
   ]
  },
  {
   "cell_type": "code",
   "execution_count": 21,
   "metadata": {},
   "outputs": [
    {
     "name": "stdout",
     "output_type": "stream",
     "text": [
      "이병주\n"
     ]
    }
   ],
   "source": [
    "sample.get_name()"
   ]
  },
  {
   "cell_type": "code",
   "execution_count": 24,
   "metadata": {},
   "outputs": [
    {
     "data": {
      "text/plain": [
       "3"
      ]
     },
     "execution_count": 24,
     "metadata": {},
     "output_type": "execute_result"
    }
   ],
   "source": [
    "ClassName.add(1,2)"
   ]
  }
 ],
 "metadata": {
  "kernelspec": {
   "display_name": "Python 3",
   "language": "python",
   "name": "python3"
  },
  "language_info": {
   "codemirror_mode": {
    "name": "ipython",
    "version": 3
   },
   "file_extension": ".py",
   "mimetype": "text/x-python",
   "name": "python",
   "nbconvert_exporter": "python",
   "pygments_lexer": "ipython3",
   "version": "3.7.3"
  },
  "toc": {
   "base_numbering": 1,
   "nav_menu": {},
   "number_sections": true,
   "sideBar": true,
   "skip_h1_title": false,
   "title_cell": "Table of Contents",
   "title_sidebar": "Contents",
   "toc_cell": false,
   "toc_position": {},
   "toc_section_display": true,
   "toc_window_display": false
  }
 },
 "nbformat": 4,
 "nbformat_minor": 2
}
