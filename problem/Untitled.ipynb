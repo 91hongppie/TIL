{
 "cells": [
  {
   "cell_type": "code",
   "execution_count": 1,
   "metadata": {},
   "outputs": [
    {
     "name": "stdout",
     "output_type": "stream",
     "text": [
      "{'24H_fluctate': '-70000',\n",
      " '24H_fluctate_rate': '-0.61',\n",
      " 'average_price': '11305906.0458',\n",
      " 'buy_price': '11220000',\n",
      " 'closing_price': '11221000',\n",
      " 'date': '1564393996770',\n",
      " 'max_price': '11550000',\n",
      " 'min_price': '11000000',\n",
      " 'opening_price': '11291000',\n",
      " 'sell_price': '11221000',\n",
      " 'units_traded': '4669.0099289',\n",
      " 'volume_1day': '4669.0099289',\n",
      " 'volume_7day': '35555.39158721'}\n"
     ]
    }
   ],
   "source": [
    "import requests\n",
    "from pprint import pprint\n",
    "\n",
    "url = \"https://api.bithumb.com/public/ticker/btc\"\n",
    "data = requests.get(url).json()['data']\n",
    "pprint(data)"
   ]
  },
  {
   "cell_type": "code",
   "execution_count": 10,
   "metadata": {
    "scrolled": true
   },
   "outputs": [
    {
     "name": "stdout",
     "output_type": "stream",
     "text": [
      "550000\n",
      "11291000\n",
      "하락장\n"
     ]
    }
   ],
   "source": [
    "# 아래에 코드를 작성하세요.\n",
    "# 최고가와 최저가\n",
    "max = int(data.get('max_price'))\n",
    "min = int(data.get('min_price'))\n",
    "# 변동폭\n",
    "diff = max - min\n",
    "print(diff)\n",
    "# 시가\n",
    "opening_price = int(data['opening_price'])\n",
    "print(opening_price)\n",
    "# 시가 + 변동폭이 최고가보다 높나요?\n",
    "if max > opening_price+diff:\n",
    "    print('상승장')\n",
    "else:\n",
    "    print('하락장')"
   ]
  },
  {
   "cell_type": "markdown",
   "metadata": {},
   "source": [
    "2  모음 제거하기\n",
    "다음 문장의 모음을 제거하여 출력하세요.\n",
    "\n",
    "예시 입력)\n",
    "\"Life is too short, you need python\"\n",
    "예시 출력)\n",
    "Lf s t shrt, y nd pythn"
   ]
  },
  {
   "cell_type": "code",
   "execution_count": 11,
   "metadata": {},
   "outputs": [
    {
     "name": "stdout",
     "output_type": "stream",
     "text": [
      "Lf s t shrt, y nd pythn\n"
     ]
    }
   ],
   "source": [
    "dd = 'Life is too short, you need python'\n",
    "a = ''\n",
    "for i in dd:\n",
    "    if i not in 'aeiou':\n",
    "        a += i\n",
    "        \n",
    "print(a)\n",
    "    "
   ]
  },
  {
   "cell_type": "markdown",
   "metadata": {},
   "source": [
    "# 과일 개수 골라내기\n",
    "\n",
    "> 장바구니에 아래와 같은 과일이 들어있고 과일 판별 리스트가 있습니다.\n",
    "\n",
    "```python\n",
    "basket_items = {'apples': 4, 'oranges': 19, 'kites': 3, 'sandwiches': 8}\n",
    "\n",
    "fruits = ['apples', 'oranges', 'pears', 'peaches', 'grapes', 'bananas']\n",
    "\n",
    "```\n",
    "> 현재 장바구니에는 과일이 몇개이고 과일이 아닌 것은 몇개인지 출력하시오.\n",
    "---\n",
    "```\n",
    "예시 출력)\n",
    "과일은 23개이고, 11개는 과일이 아닙니다..\n",
    "```"
   ]
  },
  {
   "cell_type": "code",
   "execution_count": 16,
   "metadata": {},
   "outputs": [],
   "source": [
    "basket_items = {'apples': 4, 'oranges': 19, 'kites': 3, 'sandwiches': 8}\n",
    "fruits = ['apples', 'oranges', 'pears', 'peaches', 'grapes', 'bananas']"
   ]
  },
  {
   "cell_type": "code",
   "execution_count": 18,
   "metadata": {},
   "outputs": [
    {
     "name": "stdout",
     "output_type": "stream",
     "text": [
      "과일은 23개이고, 11개는 과일이 아닙니다..\n"
     ]
    }
   ],
   "source": [
    "fruit = 0\n",
    "not_fruit = 0\n",
    "for key, value in basket_items.items():\n",
    "    if key in fruits:\n",
    "        fruit += value\n",
    "    else:\n",
    "        not_fruit += value\n",
    "\n",
    "print(f'과일은 {fruit}개이고, {not_fruit}개는 과일이 아닙니다..')"
   ]
  },
  {
   "cell_type": "markdown",
   "metadata": {},
   "source": [
    "# 영어 이름 출력하기 \n",
    "\n",
    "> 영어 이름은 가운데 이름을 가지고 있는 경우가 있습니다.\n",
    ">\n",
    "> 가운데 이름은 대문자로 축약해서 나타내는 코드를 작성해보세요.\n",
    "\n",
    "---\n",
    "```\n",
    "예시 입력)\n",
    "Alice Betty Catherine Davis\n",
    "```\n",
    "```\n",
    "예시 출력)\n",
    "Alice B. C. Davis\n",
    "```"
   ]
  },
  {
   "cell_type": "code",
   "execution_count": 154,
   "metadata": {},
   "outputs": [],
   "source": [
    "name = 'Alice Betty Catherine Davis'"
   ]
  },
  {
   "cell_type": "code",
   "execution_count": 155,
   "metadata": {},
   "outputs": [
    {
     "name": "stdout",
     "output_type": "stream",
     "text": [
      "Alice B. C. Davis\n"
     ]
    }
   ],
   "source": [
    "name = name.split(' ')\n",
    "\n",
    "for i in range(1, len(name)-1):\n",
    "     name[i] = name[i][0] + '.'\n",
    "print(' '.join(name))\n",
    "\n"
   ]
  },
  {
   "cell_type": "markdown",
   "metadata": {},
   "source": [
    "# 달력 출력하기\n",
    "\n",
    "> 1월 1일 월요일부터 12월 31일까지 달력을 출력하세요.\n",
    "\n",
    "---\n",
    "```\n",
    "예시 출력)\n",
    "         1 월\n",
    "Mo Tu We Th Fr Sa Su \n",
    " 1  2  3  4  5  6  7 \n",
    " 8  9 10 11 12 13 14 \n",
    "15 16 17 18 19 20 21 \n",
    "22 23 24 25 26 27 28 \n",
    "29 30 31 \n",
    "         2 월\n",
    "Mo Tu We Th Fr Sa Su \n",
    " 1  2  3  4  5  6  7 \n",
    " 8  9 10 11 12 13 14 \n",
    "15 16 17 18 19 20 21 \n",
    "22 23 24 25 26 27 28 \n",
    "\n",
    "         3 월\n",
    "Mo Tu We Th Fr Sa Su \n",
    " 1  2  3  4  5  6  7 \n",
    " 8  9 10 11 12 13 14 \n",
    "15 16 17 18 19 20 21 \n",
    "22 23 24 25 26 27 28 \n",
    "29 30 31\n",
    "...\n",
    "```"
   ]
  },
  {
   "cell_type": "code",
   "execution_count": 200,
   "metadata": {},
   "outputs": [],
   "source": [
    "calendar = { \n",
    "        1: 31, 2: 28, 3: 31, 4: 30, 5: 31,6: 30, \n",
    "        7: 31, 8: 31, 9: 30, 10: 31, 11: 30, 12: 31 \n",
    "} \n",
    "weeks = ['Mo', 'Tu', 'We', 'Th', 'Fr', 'Sa', 'Su'] "
   ]
  },
  {
   "cell_type": "code",
   "execution_count": 207,
   "metadata": {},
   "outputs": [
    {
     "name": "stdout",
     "output_type": "stream",
     "text": [
      "\n",
      "          1 월\n",
      " Mo Tu We Th Fr Sa Su\n",
      "  1  2  3  4  5  6  7\n",
      "  8  9 10 11 12 13 14\n",
      " 15 16 17 18 19 20 21\n",
      " 22 23 24 25 26 27 28\n",
      " 29 30 31\n",
      "          2 월\n",
      " Mo Tu We Th Fr Sa Su\n",
      "  1  2  3  4  5  6  7\n",
      "  8  9 10 11 12 13 14\n",
      " 15 16 17 18 19 20 21\n",
      " 22 23 24 25 26 27 28\n",
      "\n",
      "          3 월\n",
      " Mo Tu We Th Fr Sa Su\n",
      "  1  2  3  4  5  6  7\n",
      "  8  9 10 11 12 13 14\n",
      " 15 16 17 18 19 20 21\n",
      " 22 23 24 25 26 27 28\n",
      " 29 30 31\n",
      "          4 월\n",
      " Mo Tu We Th Fr Sa Su\n",
      "  1  2  3  4  5  6  7\n",
      "  8  9 10 11 12 13 14\n",
      " 15 16 17 18 19 20 21\n",
      " 22 23 24 25 26 27 28\n",
      " 29 30\n",
      "          5 월\n",
      " Mo Tu We Th Fr Sa Su\n",
      "  1  2  3  4  5  6  7\n",
      "  8  9 10 11 12 13 14\n",
      " 15 16 17 18 19 20 21\n",
      " 22 23 24 25 26 27 28\n",
      " 29 30 31\n",
      "          6 월\n",
      " Mo Tu We Th Fr Sa Su\n",
      "  1  2  3  4  5  6  7\n",
      "  8  9 10 11 12 13 14\n",
      " 15 16 17 18 19 20 21\n",
      " 22 23 24 25 26 27 28\n",
      " 29 30\n",
      "          7 월\n",
      " Mo Tu We Th Fr Sa Su\n",
      "  1  2  3  4  5  6  7\n",
      "  8  9 10 11 12 13 14\n",
      " 15 16 17 18 19 20 21\n",
      " 22 23 24 25 26 27 28\n",
      " 29 30 31\n",
      "          8 월\n",
      " Mo Tu We Th Fr Sa Su\n",
      "  1  2  3  4  5  6  7\n",
      "  8  9 10 11 12 13 14\n",
      " 15 16 17 18 19 20 21\n",
      " 22 23 24 25 26 27 28\n",
      " 29 30 31\n",
      "          9 월\n",
      " Mo Tu We Th Fr Sa Su\n",
      "  1  2  3  4  5  6  7\n",
      "  8  9 10 11 12 13 14\n",
      " 15 16 17 18 19 20 21\n",
      " 22 23 24 25 26 27 28\n",
      " 29 30\n",
      "         10 월\n",
      " Mo Tu We Th Fr Sa Su\n",
      "  1  2  3  4  5  6  7\n",
      "  8  9 10 11 12 13 14\n",
      " 15 16 17 18 19 20 21\n",
      " 22 23 24 25 26 27 28\n",
      " 29 30 31\n",
      "         11 월\n",
      " Mo Tu We Th Fr Sa Su\n",
      "  1  2  3  4  5  6  7\n",
      "  8  9 10 11 12 13 14\n",
      " 15 16 17 18 19 20 21\n",
      " 22 23 24 25 26 27 28\n",
      " 29 30\n",
      "         12 월\n",
      " Mo Tu We Th Fr Sa Su\n",
      "  1  2  3  4  5  6  7\n",
      "  8  9 10 11 12 13 14\n",
      " 15 16 17 18 19 20 21\n",
      " 22 23 24 25 26 27 28\n",
      " 29 30 31"
     ]
    }
   ],
   "source": [
    "for month, days in calendar.items():\n",
    "    print('\\n{0:>11} 월'.format(month))\n",
    "    print(' {0:>3}'.format(' '.join(weeks)))\n",
    "    for i in range(1, days+1):\n",
    "        print('{0:>3}'.format(i), end='')\n",
    "        if i % 7 == 0:\n",
    "            print(''.format())\n"
   ]
  },
  {
   "cell_type": "code",
   "execution_count": 216,
   "metadata": {},
   "outputs": [
    {
     "name": "stdout",
     "output_type": "stream",
     "text": [
      "*******6729\n"
     ]
    }
   ],
   "source": [
    "number = '01089336729'\n",
    "for i in range(0, 7):\n",
    "    number = number.replace(number[i], '*', 1)\n",
    "print(number)"
   ]
  },
  {
   "cell_type": "code",
   "execution_count": null,
   "metadata": {},
   "outputs": [],
   "source": []
  }
 ],
 "metadata": {
  "kernelspec": {
   "display_name": "Python 3",
   "language": "python",
   "name": "python3"
  },
  "language_info": {
   "codemirror_mode": {
    "name": "ipython",
    "version": 3
   },
   "file_extension": ".py",
   "mimetype": "text/x-python",
   "name": "python",
   "nbconvert_exporter": "python",
   "pygments_lexer": "ipython3",
   "version": "3.7.3"
  },
  "toc": {
   "base_numbering": 1,
   "nav_menu": {},
   "number_sections": true,
   "sideBar": true,
   "skip_h1_title": false,
   "title_cell": "Table of Contents",
   "title_sidebar": "Contents",
   "toc_cell": false,
   "toc_position": {},
   "toc_section_display": true,
   "toc_window_display": false
  }
 },
 "nbformat": 4,
 "nbformat_minor": 2
}
